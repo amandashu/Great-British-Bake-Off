{
 "cells": [
  {
   "cell_type": "markdown",
   "metadata": {},
   "source": [
    "### Brainstorming for potential data visualizations and some data preparation"
   ]
  },
  {
   "cell_type": "code",
   "execution_count": 1,
   "metadata": {},
   "outputs": [],
   "source": [
    "#imports\n",
    "import pandas as pd\n",
    "import numpy as np\n",
    "\n",
    "#graphing\n",
    "# import matplotlib.pyplot as plt\n",
    "# %matplotlib inline\n",
    "# import seaborn as sns\n",
    "\n",
    "# no warnings\n",
    "import warnings\n",
    "warnings.filterwarnings('ignore')\n",
    "\n",
    "#other \n",
    "import json"
   ]
  },
  {
   "cell_type": "markdown",
   "metadata": {},
   "source": [
    "### Data Sources"
   ]
  },
  {
   "cell_type": "code",
   "execution_count": 2,
   "metadata": {},
   "outputs": [],
   "source": [
    "# import data from https://bakeoff.netlify.app/index.html)\n",
    "baker_results = pd.read_csv('data/baker_results.csv',encoding = \"ISO-8859-1\")\n",
    "# episode_results = pd.read_csv('data/episode_results.csv',encoding = \"ISO-8859-1\")\n",
    "challenge_results = pd.read_csv('data/challenge_results.csv',encoding = \"ISO-8859-1\")\n",
    "ratings_seasons = pd.read_csv('data/ratings_seasons.csv',encoding = \"ISO-8859-1\")"
   ]
  },
  {
   "cell_type": "code",
   "execution_count": 3,
   "metadata": {},
   "outputs": [],
   "source": [
    "# import data from https://medium.com/analytics-vidhya/analyzing-the-great-british-bake-off-part-1-ffcdf3791bf3\n",
    "gbbo_org = pd.read_csv('data/gbbo.csv')\n",
    "gbbo = gbbo_org.iloc[:,:-2]\n",
    "gbbo['Season'] = gbbo['Season'].str[7:].astype(int)"
   ]
  },
  {
   "cell_type": "markdown",
   "metadata": {},
   "source": [
    "**average 7 day viewership by series**"
   ]
  },
  {
   "cell_type": "code",
   "execution_count": 4,
   "metadata": {},
   "outputs": [],
   "source": [
    "# average 7 day viewership by series\n",
    "viewers_by_season8 = ratings_seasons.groupby('series').mean().reset_index()[['series','viewers_7day']]\n",
    "\n",
    "# add season 9 and 10 manually (https://en.wikipedia.org/wiki/The_Great_British_Bake_Off_(series_9))\n",
    "avg_viewers9 = (9.55 + 9.31 + 8.91 + 8.88 + 8.67 + 8.91 + 9.22 + 9.69 + 9.5 + 10.34)/10\n",
    "avg_viewers10 = (9.62 + 9.38 + 8.94 + 8.96 + 9.26 + 8.70 + 8.98 + 9.19 + 9.34 + 10.05)/10\n",
    "\n",
    "# dataframe with series 9 and 10\n",
    "avg_viewers910 = pd.DataFrame({'series':[9,10],'viewers_7day':[avg_viewers9,avg_viewers10]})\n",
    "\n",
    "# put all series together\n",
    "viewers_by_season = pd.concat([viewers_by_season8,avg_viewers910 ],axis=0)"
   ]
  },
  {
   "cell_type": "code",
   "execution_count": 5,
   "metadata": {},
   "outputs": [],
   "source": [
    "# average 7 day viewership by series\n",
    "# sns.pointplot(x='series',y='viewers_7day',data=viewers_by_season)\n",
    "\n",
    "# export to json\n",
    "dct = {'data': viewers_by_season.values.tolist()}\n",
    "with open('../data/viewers_by_season.json', 'w') as file:\n",
    "    json.dump(dct,file,indent=0)"
   ]
  },
  {
   "cell_type": "markdown",
   "metadata": {},
   "source": [
    "**age breakdown of contestants**\n",
    "- series 1-10"
   ]
  },
  {
   "cell_type": "code",
   "execution_count": 6,
   "metadata": {},
   "outputs": [],
   "source": [
    "# helper function to group ages\n",
    "def age_group(age):\n",
    "    if age>=17 and age<30:\n",
    "        return '17 to 30'\n",
    "    if age>=30 and age<45:\n",
    "        return '30 to 45'\n",
    "    if age>=45 and age<60:\n",
    "        return '45 to 59'\n",
    "    else:\n",
    "        return '60+'"
   ]
  },
  {
   "cell_type": "code",
   "execution_count": 7,
   "metadata": {},
   "outputs": [],
   "source": [
    "# get only bakers\n",
    "gbbo_bakers = gbbo.drop_duplicates(subset=['Season','Baker'])[['Season','Baker','Gender','Age']]"
   ]
  },
  {
   "cell_type": "code",
   "execution_count": 8,
   "metadata": {},
   "outputs": [],
   "source": [
    "# plot pie plot of age breakdown\n",
    "ages = gbbo_bakers['Age'].apply(age_group).value_counts(normalize=True)\n",
    "# ages.plot(kind='pie',subplots=True)"
   ]
  },
  {
   "cell_type": "code",
   "execution_count": 9,
   "metadata": {},
   "outputs": [],
   "source": [
    "# convert to dataframe\n",
    "df = pd.DataFrame(ages).reset_index()\n",
    "df.columns = ['name','y']\n",
    "\n",
    "# export to json\n",
    "data = list(df.apply(pd.Series.to_json,axis=1).apply(json.loads))\n",
    "with open('../data/ages.json', 'w') as file:\n",
    "    json.dump(data,file,indent=0)"
   ]
  },
  {
   "cell_type": "markdown",
   "metadata": {},
   "source": [
    "**gender breakdown**"
   ]
  },
  {
   "cell_type": "code",
   "execution_count": 10,
   "metadata": {},
   "outputs": [],
   "source": [
    "# plot pie plot of gender breakdown\n",
    "gender = gbbo_bakers['Gender'].value_counts(normalize=True)\n",
    "# gender.plot(kind='pie',subplots=True)"
   ]
  },
  {
   "cell_type": "code",
   "execution_count": 11,
   "metadata": {},
   "outputs": [],
   "source": [
    "# convert to dataframe\n",
    "df = pd.DataFrame(gender).reset_index()\n",
    "df.columns = ['name','y']\n",
    "\n",
    "#export to json\n",
    "data = list(df.apply(pd.Series.to_json,axis=1).apply(json.loads))\n",
    "with open('../data/gender.json', 'w') as file:\n",
    "    json.dump(data,file,indent=0)"
   ]
  },
  {
   "cell_type": "markdown",
   "metadata": {},
   "source": [
    "**word cloud of the bake titles**"
   ]
  },
  {
   "cell_type": "code",
   "execution_count": 12,
   "metadata": {
    "scrolled": false
   },
   "outputs": [],
   "source": [
    "# split bake titles\n",
    "words = pd.Series(challenge_results['signature'].dropna().str.split().sum() + \n",
    "                      challenge_results['showstopper'].dropna().str.split().sum())\n",
    "words = words.apply(lambda x:'Chocolate' if x == \"Chocolate,\" else x)\n",
    "\n",
    "# no common words\n",
    "stopwords = ['and','&','with','a','of','The']\n",
    "words = words[~ words.isin(pd.Series(stopwords))]\n",
    "\n",
    "# first 150 words\n",
    "words_150 = pd.DataFrame(words.value_counts()).reset_index()[:150]\n",
    "\n",
    "# export json\n",
    "words_150.columns = ['name','weight']\n",
    "words_150 = words_150.apply(pd.Series.to_json,axis=1)\n",
    "dct = {}\n",
    "dct['words'] = list(words_150.apply(json.loads))\n",
    "with open('../data/bake_words.json', 'w') as file:\n",
    "    json.dump(dct,file,indent=0)"
   ]
  },
  {
   "cell_type": "markdown",
   "metadata": {},
   "source": [
    "**Compare winners handshakes, technicals, star_baker**"
   ]
  },
  {
   "cell_type": "code",
   "execution_count": 13,
   "metadata": {},
   "outputs": [
    {
     "data": {
      "text/html": [
       "<div>\n",
       "<style scoped>\n",
       "    .dataframe tbody tr th:only-of-type {\n",
       "        vertical-align: middle;\n",
       "    }\n",
       "\n",
       "    .dataframe tbody tr th {\n",
       "        vertical-align: top;\n",
       "    }\n",
       "\n",
       "    .dataframe thead th {\n",
       "        text-align: right;\n",
       "    }\n",
       "</style>\n",
       "<table border=\"1\" class=\"dataframe\">\n",
       "  <thead>\n",
       "    <tr style=\"text-align: right;\">\n",
       "      <th></th>\n",
       "      <th>series</th>\n",
       "      <th>baker_full</th>\n",
       "      <th>baker</th>\n",
       "      <th>age</th>\n",
       "      <th>occupation</th>\n",
       "      <th>hometown</th>\n",
       "      <th>baker_last</th>\n",
       "      <th>baker_first</th>\n",
       "      <th>star_baker</th>\n",
       "      <th>technical_winner</th>\n",
       "      <th>...</th>\n",
       "      <th>technical_median</th>\n",
       "      <th>series_winner</th>\n",
       "      <th>series_runner_up</th>\n",
       "      <th>total_episodes_appeared</th>\n",
       "      <th>first_date_appeared</th>\n",
       "      <th>last_date_appeared</th>\n",
       "      <th>first_date_us</th>\n",
       "      <th>last_date_us</th>\n",
       "      <th>percent_episodes_appeared</th>\n",
       "      <th>percent_technical_top3</th>\n",
       "    </tr>\n",
       "  </thead>\n",
       "  <tbody>\n",
       "    <tr>\n",
       "      <td>2</td>\n",
       "      <td>1</td>\n",
       "      <td>Edward \"Edd\" Kimber</td>\n",
       "      <td>Edd</td>\n",
       "      <td>24</td>\n",
       "      <td>Debt collector for Yorkshire Bank</td>\n",
       "      <td>Bradford</td>\n",
       "      <td>Kimber</td>\n",
       "      <td>Edward</td>\n",
       "      <td>0</td>\n",
       "      <td>2</td>\n",
       "      <td>...</td>\n",
       "      <td>2.0</td>\n",
       "      <td>1</td>\n",
       "      <td>0</td>\n",
       "      <td>6</td>\n",
       "      <td>2010-08-17</td>\n",
       "      <td>2010-09-21</td>\n",
       "      <td>NaN</td>\n",
       "      <td>NaN</td>\n",
       "      <td>100.0</td>\n",
       "      <td>66.666667</td>\n",
       "    </tr>\n",
       "    <tr>\n",
       "      <td>15</td>\n",
       "      <td>2</td>\n",
       "      <td>Joanne Wheatley</td>\n",
       "      <td>Joanne</td>\n",
       "      <td>41</td>\n",
       "      <td>Housewife</td>\n",
       "      <td>Ongar, Essex</td>\n",
       "      <td>Wheatley</td>\n",
       "      <td>Joanne</td>\n",
       "      <td>1</td>\n",
       "      <td>3</td>\n",
       "      <td>...</td>\n",
       "      <td>4.5</td>\n",
       "      <td>1</td>\n",
       "      <td>0</td>\n",
       "      <td>8</td>\n",
       "      <td>2011-08-16</td>\n",
       "      <td>2011-10-04</td>\n",
       "      <td>NaN</td>\n",
       "      <td>NaN</td>\n",
       "      <td>100.0</td>\n",
       "      <td>50.000000</td>\n",
       "    </tr>\n",
       "    <tr>\n",
       "      <td>26</td>\n",
       "      <td>3</td>\n",
       "      <td>John Whaite</td>\n",
       "      <td>John</td>\n",
       "      <td>23</td>\n",
       "      <td>Law student</td>\n",
       "      <td>Wigan</td>\n",
       "      <td>Whaite</td>\n",
       "      <td>John</td>\n",
       "      <td>1</td>\n",
       "      <td>1</td>\n",
       "      <td>...</td>\n",
       "      <td>3.0</td>\n",
       "      <td>1</td>\n",
       "      <td>0</td>\n",
       "      <td>10</td>\n",
       "      <td>2012-08-14</td>\n",
       "      <td>2012-10-16</td>\n",
       "      <td>NaN</td>\n",
       "      <td>NaN</td>\n",
       "      <td>100.0</td>\n",
       "      <td>60.000000</td>\n",
       "    </tr>\n",
       "    <tr>\n",
       "      <td>38</td>\n",
       "      <td>4</td>\n",
       "      <td>Frances Quinn</td>\n",
       "      <td>Frances</td>\n",
       "      <td>31</td>\n",
       "      <td>Children's Clothes Designer</td>\n",
       "      <td>Market Harborough, Leicestershire</td>\n",
       "      <td>Quinn</td>\n",
       "      <td>Frances</td>\n",
       "      <td>1</td>\n",
       "      <td>1</td>\n",
       "      <td>...</td>\n",
       "      <td>3.0</td>\n",
       "      <td>1</td>\n",
       "      <td>0</td>\n",
       "      <td>10</td>\n",
       "      <td>2013-08-20</td>\n",
       "      <td>2013-10-22</td>\n",
       "      <td>2014-12-28</td>\n",
       "      <td>2015-03-01</td>\n",
       "      <td>100.0</td>\n",
       "      <td>70.000000</td>\n",
       "    </tr>\n",
       "    <tr>\n",
       "      <td>56</td>\n",
       "      <td>5</td>\n",
       "      <td>Nancy Birtwhistle</td>\n",
       "      <td>Nancy</td>\n",
       "      <td>60</td>\n",
       "      <td>Retired practice manager</td>\n",
       "      <td>Barton-Upon-Humber, Lincolnshire</td>\n",
       "      <td>Birtwhistle</td>\n",
       "      <td>Nancy</td>\n",
       "      <td>1</td>\n",
       "      <td>3</td>\n",
       "      <td>...</td>\n",
       "      <td>2.5</td>\n",
       "      <td>1</td>\n",
       "      <td>0</td>\n",
       "      <td>10</td>\n",
       "      <td>2014-08-06</td>\n",
       "      <td>2014-10-08</td>\n",
       "      <td>2015-09-06</td>\n",
       "      <td>2015-11-08</td>\n",
       "      <td>100.0</td>\n",
       "      <td>70.000000</td>\n",
       "    </tr>\n",
       "  </tbody>\n",
       "</table>\n",
       "<p>5 rows × 24 columns</p>\n",
       "</div>"
      ],
      "text/plain": [
       "    series           baker_full    baker  age  \\\n",
       "2        1  Edward \"Edd\" Kimber      Edd   24   \n",
       "15       2      Joanne Wheatley   Joanne   41   \n",
       "26       3          John Whaite     John   23   \n",
       "38       4        Frances Quinn  Frances   31   \n",
       "56       5    Nancy Birtwhistle    Nancy   60   \n",
       "\n",
       "                           occupation                           hometown  \\\n",
       "2   Debt collector for Yorkshire Bank                           Bradford   \n",
       "15                          Housewife                       Ongar, Essex   \n",
       "26                        Law student                              Wigan   \n",
       "38        Children's Clothes Designer  Market Harborough, Leicestershire   \n",
       "56           Retired practice manager   Barton-Upon-Humber, Lincolnshire   \n",
       "\n",
       "     baker_last baker_first  star_baker  technical_winner  ...  \\\n",
       "2        Kimber      Edward           0                 2  ...   \n",
       "15     Wheatley      Joanne           1                 3  ...   \n",
       "26       Whaite        John           1                 1  ...   \n",
       "38        Quinn     Frances           1                 1  ...   \n",
       "56  Birtwhistle       Nancy           1                 3  ...   \n",
       "\n",
       "    technical_median  series_winner  series_runner_up  \\\n",
       "2                2.0              1                 0   \n",
       "15               4.5              1                 0   \n",
       "26               3.0              1                 0   \n",
       "38               3.0              1                 0   \n",
       "56               2.5              1                 0   \n",
       "\n",
       "    total_episodes_appeared  first_date_appeared  last_date_appeared  \\\n",
       "2                         6           2010-08-17          2010-09-21   \n",
       "15                        8           2011-08-16          2011-10-04   \n",
       "26                       10           2012-08-14          2012-10-16   \n",
       "38                       10           2013-08-20          2013-10-22   \n",
       "56                       10           2014-08-06          2014-10-08   \n",
       "\n",
       "    first_date_us  last_date_us percent_episodes_appeared  \\\n",
       "2             NaN           NaN                     100.0   \n",
       "15            NaN           NaN                     100.0   \n",
       "26            NaN           NaN                     100.0   \n",
       "38     2014-12-28    2015-03-01                     100.0   \n",
       "56     2015-09-06    2015-11-08                     100.0   \n",
       "\n",
       "   percent_technical_top3  \n",
       "2               66.666667  \n",
       "15              50.000000  \n",
       "26              60.000000  \n",
       "38              70.000000  \n",
       "56              70.000000  \n",
       "\n",
       "[5 rows x 24 columns]"
      ]
     },
     "execution_count": 13,
     "metadata": {},
     "output_type": "execute_result"
    }
   ],
   "source": [
    "# get winners for first data source\n",
    "winners8 = baker_results[baker_results['series_winner']==1].sort_values('series')\n",
    "winners8.head()"
   ]
  },
  {
   "cell_type": "code",
   "execution_count": 14,
   "metadata": {},
   "outputs": [
    {
     "data": {
      "text/html": [
       "<div>\n",
       "<style scoped>\n",
       "    .dataframe tbody tr th:only-of-type {\n",
       "        vertical-align: middle;\n",
       "    }\n",
       "\n",
       "    .dataframe tbody tr th {\n",
       "        vertical-align: top;\n",
       "    }\n",
       "\n",
       "    .dataframe thead th {\n",
       "        text-align: right;\n",
       "    }\n",
       "</style>\n",
       "<table border=\"1\" class=\"dataframe\">\n",
       "  <thead>\n",
       "    <tr style=\"text-align: right;\">\n",
       "      <th></th>\n",
       "      <th>Signature Handshake</th>\n",
       "      <th>Showstopper Handshake</th>\n",
       "    </tr>\n",
       "    <tr>\n",
       "      <th>Baker</th>\n",
       "      <th></th>\n",
       "      <th></th>\n",
       "    </tr>\n",
       "  </thead>\n",
       "  <tbody>\n",
       "    <tr>\n",
       "      <td>Edd</td>\n",
       "      <td>0</td>\n",
       "      <td>0</td>\n",
       "    </tr>\n",
       "    <tr>\n",
       "      <td>Joanne</td>\n",
       "      <td>0</td>\n",
       "      <td>0</td>\n",
       "    </tr>\n",
       "    <tr>\n",
       "      <td>John</td>\n",
       "      <td>0</td>\n",
       "      <td>0</td>\n",
       "    </tr>\n",
       "    <tr>\n",
       "      <td>Frances</td>\n",
       "      <td>1</td>\n",
       "      <td>0</td>\n",
       "    </tr>\n",
       "    <tr>\n",
       "      <td>Nancy</td>\n",
       "      <td>0</td>\n",
       "      <td>0</td>\n",
       "    </tr>\n",
       "    <tr>\n",
       "      <td>Nadiya</td>\n",
       "      <td>1</td>\n",
       "      <td>0</td>\n",
       "    </tr>\n",
       "    <tr>\n",
       "      <td>Candice</td>\n",
       "      <td>1</td>\n",
       "      <td>0</td>\n",
       "    </tr>\n",
       "    <tr>\n",
       "      <td>Sophie</td>\n",
       "      <td>1</td>\n",
       "      <td>0</td>\n",
       "    </tr>\n",
       "    <tr>\n",
       "      <td>Rahul</td>\n",
       "      <td>2</td>\n",
       "      <td>1</td>\n",
       "    </tr>\n",
       "    <tr>\n",
       "      <td>David</td>\n",
       "      <td>1</td>\n",
       "      <td>0</td>\n",
       "    </tr>\n",
       "  </tbody>\n",
       "</table>\n",
       "</div>"
      ],
      "text/plain": [
       "         Signature Handshake  Showstopper Handshake\n",
       "Baker                                              \n",
       "Edd                        0                      0\n",
       "Joanne                     0                      0\n",
       "John                       0                      0\n",
       "Frances                    1                      0\n",
       "Nancy                      0                      0\n",
       "Nadiya                     1                      0\n",
       "Candice                    1                      0\n",
       "Sophie                     1                      0\n",
       "Rahul                      2                      1\n",
       "David                      1                      0"
      ]
     },
     "execution_count": 14,
     "metadata": {},
     "output_type": "execute_result"
    }
   ],
   "source": [
    "# get s1-8 winners for second data source\n",
    "w = gbbo[(gbbo['Winner']==1) | ((gbbo['Baker']=='David') & (gbbo['Season']==10))]\n",
    "handshakes = w.groupby(\n",
    "    'Baker').sum()[['Signature Handshake','Showstopper Handshake']]\n",
    "winners_list = list(winners8['baker']) + ['Rahul','David']\n",
    "handshakes.reindex(winners_list)"
   ]
  },
  {
   "cell_type": "code",
   "execution_count": 15,
   "metadata": {},
   "outputs": [],
   "source": [
    "rahul = gbbo[(gbbo['Baker']=='Rahul') & (gbbo['Season']==9)]\n",
    "david = gbbo[(gbbo['Baker']=='David') & (gbbo['Season']==10)]"
   ]
  },
  {
   "cell_type": "code",
   "execution_count": 16,
   "metadata": {},
   "outputs": [],
   "source": [
    "# get num of start bakers, technical wins, and handshakes\n",
    "dct = {}\n",
    "dct['bakers'] = winners_list\n",
    "dct['star_baker'] = list(winners8['star_baker']) + [int(rahul['Star Baker'].sum()-1), # hard code to fix data inconsistencies\n",
    "                                                    int(david['Star Baker'].sum()+1)]\n",
    "dct['technical'] = list(winners8['technical_winner']) + [int((rahul['Technical Rank']==1).sum()),\n",
    "                                                         int((david['Technical Rank']==1).sum())]\n",
    "dct['handshake'] = list(handshakes['Signature Handshake'] + handshakes['Showstopper Handshake'])\n",
    "\n",
    "# to json\n",
    "with open('../data/winners_stats.json', 'w') as file:\n",
    "    json.dump(dct,file,indent=0)"
   ]
  },
  {
   "cell_type": "markdown",
   "metadata": {},
   "source": [
    "**bubble chart of winner based on instagram + twitter followers**"
   ]
  },
  {
   "cell_type": "code",
   "execution_count": 51,
   "metadata": {},
   "outputs": [],
   "source": [
    "# data collected manually as of 6/6/20\n",
    "insta = pd.DataFrame({'baker': ['Edd','Joanne','John','Frances','Nancy','Nadiya','Candice','Sophie','Rahul','David'],\n",
    "                      'age': list(w.drop_duplicates('Baker')['Age']),\n",
    "                      'occupation': list(winners8['occupation']) +['Engineering Researcher','Health Advisor'],\n",
    "                      'hometown': list(winners8['hometown']) + ['Howrah, India','Whitby'],\n",
    "                     'followers': [288+40.9, 26.3, 79.8+89.1, 49.1+74.6, 104+38.1, 520+236.8, 239+93.9, 31.5+21.7,\n",
    "                                  188+1, 122+22],\n",
    "                     'series': list(np.arange(1,11)),\n",
    "                     'image_path': ['images/bakers/edd.jpg','images/bakers/joanne.jpg','images/bakers/john.jpg',\n",
    "                                    'images/bakers/frances.jpg','images/bakers/nancy.jpg','images/bakers/nadiya.jpg',\n",
    "                                    'images/bakers/candice.jpg','images/bakers/sophie.jpg','images/bakers/rahul.jpg',\n",
    "                                   'images/bakers/david.jpg'],\n",
    "                     'wiki': ['https://en.wikipedia.org/wiki/Edd_Kimber','https://en.wikipedia.org/wiki/Joanne_Wheatley',\n",
    "                             'https://en.wikipedia.org/wiki/John_Whaite', 'https://en.wikipedia.org/wiki/Frances_Quinn',\n",
    "                             'https://en.wikipedia.org/wiki/Nancy_Birtwhistle', 'https://en.wikipedia.org/wiki/Nadiya_Hussain',\n",
    "                             'https://en.wikipedia.org/wiki/Candice_Brown','https://en.wikipedia.org/wiki/Sophie_Faldo',\n",
    "                             'https://en.wikipedia.org/wiki/Rahul_Mandal','https://en.wikipedia.org/wiki/David_Atherton_(baker)']\n",
    "                     })\n",
    "insta.to_csv('../data/insta.csv',index=False)"
   ]
  },
  {
   "cell_type": "markdown",
   "metadata": {},
   "source": [
    "**dashboard**"
   ]
  },
  {
   "cell_type": "code",
   "execution_count": 28,
   "metadata": {},
   "outputs": [
    {
     "data": {
      "text/plain": [
       "series              5\n",
       "baker         Richard\n",
       "star_baker          5\n",
       "Name: 58, dtype: object"
      ]
     },
     "execution_count": 28,
     "metadata": {},
     "output_type": "execute_result"
    }
   ],
   "source": [
    "baker_results.iloc[baker_results['star_baker'].idxmax()][['series','baker','star_baker']] # most star bakers"
   ]
  },
  {
   "cell_type": "code",
   "execution_count": 54,
   "metadata": {},
   "outputs": [
    {
     "data": {
      "text/plain": [
       "series                  3\n",
       "baker               James\n",
       "technical_winner        5\n",
       "Name: 25, dtype: object"
      ]
     },
     "execution_count": 54,
     "metadata": {},
     "output_type": "execute_result"
    }
   ],
   "source": [
    "baker_results.iloc[baker_results['technical_winner'].idxmax()][['series','baker','technical_winner']] # best technical baker"
   ]
  },
  {
   "cell_type": "code",
   "execution_count": 50,
   "metadata": {},
   "outputs": [
    {
     "data": {
      "text/plain": [
       "34"
      ]
     },
     "execution_count": 50,
     "metadata": {},
     "output_type": "execute_result"
    }
   ],
   "source": [
    "(gbbo['Signature Handshake']+gbbo['Showstopper Handshake']).sum() # 34 handshakes given"
   ]
  },
  {
   "cell_type": "code",
   "execution_count": 63,
   "metadata": {},
   "outputs": [],
   "source": [
    "# handshakes_by_season = gbbo.groupby('Season').sum()[['Showstopper Handshake','Signature Handshake']].sum(axis=1)\n",
    "# handshakes_by_season"
   ]
  },
  {
   "cell_type": "code",
   "execution_count": null,
   "metadata": {},
   "outputs": [],
   "source": []
  }
 ],
 "metadata": {
  "kernelspec": {
   "display_name": "Python 3",
   "language": "python",
   "name": "python3"
  },
  "language_info": {
   "codemirror_mode": {
    "name": "ipython",
    "version": 3
   },
   "file_extension": ".py",
   "mimetype": "text/x-python",
   "name": "python",
   "nbconvert_exporter": "python",
   "pygments_lexer": "ipython3",
   "version": "3.7.4"
  }
 },
 "nbformat": 4,
 "nbformat_minor": 2
}
